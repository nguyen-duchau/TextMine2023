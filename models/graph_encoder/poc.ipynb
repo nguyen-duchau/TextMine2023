{
 "cells": [
  {
   "cell_type": "code",
   "execution_count": 1,
   "metadata": {},
   "outputs": [],
   "source": [
    "import json\n",
    "with open(\"/home/huthomas/Research/TextMine2023/dataset/JDR.json\", 'r') as f:\n",
    "    jdr = json.load(f)\n",
    "with open(\"/home/huthomas/Research/TextMine2023/dataset/JDF.json\", 'r') as f:\n",
    "    jdf = json.load(f)"
   ]
  },
  {
   "cell_type": "code",
   "execution_count": 1,
   "metadata": {},
   "outputs": [],
   "source": [
    "from libraries.strategies import load_dataset\n",
    "\n",
    "dataset = load_dataset(\"../../dataset/JDR.json\")"
   ]
  },
  {
   "cell_type": "code",
   "execution_count": 8,
   "metadata": {},
   "outputs": [
    {
     "data": {
      "text/html": [
       "<div>\n",
       "<style scoped>\n",
       "    .dataframe tbody tr th:only-of-type {\n",
       "        vertical-align: middle;\n",
       "    }\n",
       "\n",
       "    .dataframe tbody tr th {\n",
       "        vertical-align: top;\n",
       "    }\n",
       "\n",
       "    .dataframe thead th {\n",
       "        text-align: right;\n",
       "    }\n",
       "</style>\n",
       "<table border=\"1\" class=\"dataframe\">\n",
       "  <thead>\n",
       "    <tr style=\"text-align: right;\">\n",
       "      <th></th>\n",
       "      <th>identifier</th>\n",
       "      <th>text</th>\n",
       "      <th>annotations</th>\n",
       "    </tr>\n",
       "  </thead>\n",
       "  <tbody>\n",
       "    <tr>\n",
       "      <th>0</th>\n",
       "      <td>500</td>\n",
       "      <td>Faustin Chabot\\r\\nAdresse : 19 rue Descartes 9...</td>\n",
       "      <td>[{'form': 'Faustin', 'label': 'Human', 'begin'...</td>\n",
       "    </tr>\n",
       "    <tr>\n",
       "      <th>1</th>\n",
       "      <td>501</td>\n",
       "      <td>Vallis Lachance\\r\\nConcepteur de publications ...</td>\n",
       "      <td>[{'form': 'Vallis', 'label': 'Human', 'begin':...</td>\n",
       "    </tr>\n",
       "    <tr>\n",
       "      <th>2</th>\n",
       "      <td>502</td>\n",
       "      <td>Archaimbau Masson\\r\\nChargé de Clientèle\\r\\nSe...</td>\n",
       "      <td>[{'form': 'Archaimbau', 'label': 'Human', 'beg...</td>\n",
       "    </tr>\n",
       "    <tr>\n",
       "      <th>3</th>\n",
       "      <td>503</td>\n",
       "      <td>Jeanette Fremont\\r\\n8 Rue Joseph Vernet 92220 ...</td>\n",
       "      <td>[{'form': 'Jeanette', 'label': 'Human', 'begin...</td>\n",
       "    </tr>\n",
       "    <tr>\n",
       "      <th>4</th>\n",
       "      <td>504</td>\n",
       "      <td>Cher Bazin\\r\\nMécanicienne auto / Répare ta ca...</td>\n",
       "      <td>[{'form': 'Cher', 'label': 'Human', 'begin': 0...</td>\n",
       "    </tr>\n",
       "    <tr>\n",
       "      <th>...</th>\n",
       "      <td>...</td>\n",
       "      <td>...</td>\n",
       "      <td>...</td>\n",
       "    </tr>\n",
       "    <tr>\n",
       "      <th>468</th>\n",
       "      <td>968</td>\n",
       "      <td>Claude Landry\\nAdresse : 46 rue du Général Ail...</td>\n",
       "      <td>[{'form': 'Claude', 'label': 'Human', 'begin':...</td>\n",
       "    </tr>\n",
       "    <tr>\n",
       "      <th>469</th>\n",
       "      <td>969</td>\n",
       "      <td>Charlotte Bussière\\n59 cours Jean Jaures 33300...</td>\n",
       "      <td>[{'form': 'Charlotte', 'label': 'Human', 'begi...</td>\n",
       "    </tr>\n",
       "    <tr>\n",
       "      <th>470</th>\n",
       "      <td>970</td>\n",
       "      <td>Cédric Garnier\\n04.27.19.10.74 / cedricgarnier...</td>\n",
       "      <td>[{'form': 'Cédric', 'label': 'Human', 'begin':...</td>\n",
       "    </tr>\n",
       "    <tr>\n",
       "      <th>471</th>\n",
       "      <td>971</td>\n",
       "      <td>Flavienne Devost\\n02.56.24.53.38\\nflavienned@c...</td>\n",
       "      <td>[{'form': 'Flavienne', 'label': 'Human', 'begi...</td>\n",
       "    </tr>\n",
       "    <tr>\n",
       "      <th>472</th>\n",
       "      <td>972</td>\n",
       "      <td>Violette Faubert\\nOmni Superstore\\nAdresse : 7...</td>\n",
       "      <td>[{'form': 'Violette', 'label': 'Human', 'begin...</td>\n",
       "    </tr>\n",
       "  </tbody>\n",
       "</table>\n",
       "<p>473 rows × 3 columns</p>\n",
       "</div>"
      ],
      "text/plain": [
       "     identifier                                               text  \\\n",
       "0           500  Faustin Chabot\\r\\nAdresse : 19 rue Descartes 9...   \n",
       "1           501  Vallis Lachance\\r\\nConcepteur de publications ...   \n",
       "2           502  Archaimbau Masson\\r\\nChargé de Clientèle\\r\\nSe...   \n",
       "3           503  Jeanette Fremont\\r\\n8 Rue Joseph Vernet 92220 ...   \n",
       "4           504  Cher Bazin\\r\\nMécanicienne auto / Répare ta ca...   \n",
       "..          ...                                                ...   \n",
       "468         968  Claude Landry\\nAdresse : 46 rue du Général Ail...   \n",
       "469         969  Charlotte Bussière\\n59 cours Jean Jaures 33300...   \n",
       "470         970  Cédric Garnier\\n04.27.19.10.74 / cedricgarnier...   \n",
       "471         971  Flavienne Devost\\n02.56.24.53.38\\nflavienned@c...   \n",
       "472         972  Violette Faubert\\nOmni Superstore\\nAdresse : 7...   \n",
       "\n",
       "                                           annotations  \n",
       "0    [{'form': 'Faustin', 'label': 'Human', 'begin'...  \n",
       "1    [{'form': 'Vallis', 'label': 'Human', 'begin':...  \n",
       "2    [{'form': 'Archaimbau', 'label': 'Human', 'beg...  \n",
       "3    [{'form': 'Jeanette', 'label': 'Human', 'begin...  \n",
       "4    [{'form': 'Cher', 'label': 'Human', 'begin': 0...  \n",
       "..                                                 ...  \n",
       "468  [{'form': 'Claude', 'label': 'Human', 'begin':...  \n",
       "469  [{'form': 'Charlotte', 'label': 'Human', 'begi...  \n",
       "470  [{'form': 'Cédric', 'label': 'Human', 'begin':...  \n",
       "471  [{'form': 'Flavienne', 'label': 'Human', 'begi...  \n",
       "472  [{'form': 'Violette', 'label': 'Human', 'begin...  \n",
       "\n",
       "[473 rows x 3 columns]"
      ]
     },
     "execution_count": 8,
     "metadata": {},
     "output_type": "execute_result"
    }
   ],
   "source": [
    "dataset"
   ]
  },
  {
   "cell_type": "code",
   "execution_count": 11,
   "metadata": {},
   "outputs": [
    {
     "name": "stderr",
     "output_type": "stream",
     "text": [
      "Some weights of the model checkpoint at distilroberta-base were not used when initializing RobertaModel: ['lm_head.decoder.weight', 'lm_head.layer_norm.bias', 'lm_head.bias', 'lm_head.layer_norm.weight', 'lm_head.dense.bias', 'lm_head.dense.weight']\n",
      "- This IS expected if you are initializing RobertaModel from the checkpoint of a model trained on another task or with another architecture (e.g. initializing a BertForSequenceClassification model from a BertForPreTraining model).\n",
      "- This IS NOT expected if you are initializing RobertaModel from the checkpoint of a model that you expect to be exactly identical (initializing a BertForSequenceClassification model from a BertForSequenceClassification model).\n"
     ]
    }
   ],
   "source": [
    "from transformers import AutoModel, AutoTokenizer\n",
    "model = AutoModel.from_pretrained('distilroberta-base')\n",
    "tokenizer = AutoTokenizer.from_pretrained('distilroberta-base')"
   ]
  },
  {
   "cell_type": "code",
   "execution_count": 13,
   "metadata": {},
   "outputs": [],
   "source": [
    "emb = model.embeddings"
   ]
  },
  {
   "cell_type": "code",
   "execution_count": 18,
   "metadata": {},
   "outputs": [],
   "source": [
    "tokens = tokenizer('just a test', return_tensors='pt')"
   ]
  },
  {
   "cell_type": "code",
   "execution_count": 24,
   "metadata": {},
   "outputs": [
    {
     "data": {
      "text/plain": [
       "tensor([[[ 0.1703, -0.0370, -0.0242,  ..., -0.1218,  0.0769, -0.0098],\n",
       "         [-0.3778, -0.0893,  0.1104,  ..., -0.1355, -0.1455, -0.2008],\n",
       "         [-0.2655, -0.0835, -0.0425,  ...,  0.1011, -0.2083,  0.4701],\n",
       "         [ 0.1425, -0.1177,  0.0703,  ...,  0.4348, -0.5120,  0.0242],\n",
       "         [ 0.1645, -0.2801, -0.1263,  ...,  0.4881,  0.0256,  0.1779]]],\n",
       "       grad_fn=<NativeLayerNormBackward0>)"
      ]
     },
     "execution_count": 24,
     "metadata": {},
     "output_type": "execute_result"
    }
   ],
   "source": [
    "emb(tokens['input_ids'])"
   ]
  },
  {
   "cell_type": "code",
   "execution_count": null,
   "metadata": {},
   "outputs": [],
   "source": []
  }
 ],
 "metadata": {
  "kernelspec": {
   "display_name": "Python 3.10.6 ('nlp')",
   "language": "python",
   "name": "python3"
  },
  "language_info": {
   "codemirror_mode": {
    "name": "ipython",
    "version": 3
   },
   "file_extension": ".py",
   "mimetype": "text/x-python",
   "name": "python",
   "nbconvert_exporter": "python",
   "pygments_lexer": "ipython3",
   "version": "3.10.6"
  },
  "orig_nbformat": 4,
  "vscode": {
   "interpreter": {
    "hash": "1f4915356d51142f96327d30bf66f5a9507a7ac1e0a64d596eaf23192cc4bb33"
   }
  }
 },
 "nbformat": 4,
 "nbformat_minor": 2
}
